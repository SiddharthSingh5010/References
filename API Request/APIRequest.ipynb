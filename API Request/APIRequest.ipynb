{
 "metadata": {
  "language_info": {
   "codemirror_mode": {
    "name": "ipython",
    "version": 3
   },
   "file_extension": ".py",
   "mimetype": "text/x-python",
   "name": "python",
   "nbconvert_exporter": "python",
   "pygments_lexer": "ipython3",
   "version": "3.9.5"
  },
  "orig_nbformat": 4,
  "kernelspec": {
   "name": "python3",
   "display_name": "Python 3.9.5 64-bit"
  },
  "interpreter": {
   "hash": "a8b97659b4ac75e34b08cbb60f741f6fa1b09294bdc88c93c69cd97922217a91"
  }
 },
 "nbformat": 4,
 "nbformat_minor": 2,
 "cells": [
  {
   "cell_type": "code",
   "execution_count": 1,
   "metadata": {},
   "outputs": [],
   "source": [
    "import requests\n",
    "import pandas as pd\n",
    "import json"
   ]
  },
  {
   "cell_type": "code",
   "execution_count": 63,
   "metadata": {},
   "outputs": [],
   "source": [
    "#Get request to url through REST API\n",
    "r=requests.get('https://reqres.in/api/users?page=2')"
   ]
  },
  {
   "cell_type": "code",
   "execution_count": 64,
   "metadata": {},
   "outputs": [
    {
     "output_type": "execute_result",
     "data": {
      "text/plain": [
       "200"
      ]
     },
     "metadata": {},
     "execution_count": 64
    }
   ],
   "source": [
    "#checking the status of request 200=Success\n",
    "r.status_code"
   ]
  },
  {
   "cell_type": "code",
   "execution_count": 65,
   "metadata": {},
   "outputs": [
    {
     "output_type": "execute_result",
     "data": {
      "text/plain": [
       "'application/json; charset=utf-8'"
      ]
     },
     "metadata": {},
     "execution_count": 65
    }
   ],
   "source": [
    "#checking the content type received from request\n",
    "r.headers['content-type']"
   ]
  },
  {
   "cell_type": "code",
   "execution_count": 66,
   "metadata": {},
   "outputs": [
    {
     "output_type": "execute_result",
     "data": {
      "text/plain": [
       "'{\"page\":2,\"per_page\":6,\"total\":12,\"total_pages\":2,\"data\":[{\"id\":7,\"email\":\"michael.lawson@reqres.in\",\"first_name\":\"Michael\",\"last_name\":\"Lawson\",\"avatar\":\"https://reqres.in/img/faces/7-image.jpg\"},{\"id\":8,\"email\":\"lindsay.ferguson@reqres.in\",\"first_name\":\"Lindsay\",\"last_name\":\"Ferguson\",\"avatar\":\"https://reqres.in/img/faces/8-image.jpg\"},{\"id\":9,\"email\":\"tobias.funke@reqres.in\",\"first_name\":\"Tobias\",\"last_name\":\"Funke\",\"avatar\":\"https://reqres.in/img/faces/9-image.jpg\"},{\"id\":10,\"email\":\"byron.fields@reqres.in\",\"first_name\":\"Byron\",\"last_name\":\"Fields\",\"avatar\":\"https://reqres.in/img/faces/10-image.jpg\"},{\"id\":11,\"email\":\"george.edwards@reqres.in\",\"first_name\":\"George\",\"last_name\":\"Edwards\",\"avatar\":\"https://reqres.in/img/faces/11-image.jpg\"},{\"id\":12,\"email\":\"rachel.howell@reqres.in\",\"first_name\":\"Rachel\",\"last_name\":\"Howell\",\"avatar\":\"https://reqres.in/img/faces/12-image.jpg\"}],\"support\":{\"url\":\"https://reqres.in/#support-heading\",\"text\":\"To keep ReqRes free, contributions towards server costs are appreciated!\"}}'"
      ]
     },
     "metadata": {},
     "execution_count": 66
    }
   ],
   "source": [
    "#checking the body of data received from successful get request\n",
    "r.text"
   ]
  },
  {
   "cell_type": "code",
   "execution_count": 67,
   "metadata": {},
   "outputs": [],
   "source": [
    "#converting text to json\n",
    "rjson=r.json()"
   ]
  },
  {
   "cell_type": "code",
   "execution_count": 68,
   "metadata": {},
   "outputs": [
    {
     "output_type": "execute_result",
     "data": {
      "text/plain": [
       "{'page': 2,\n",
       " 'per_page': 6,\n",
       " 'total': 12,\n",
       " 'total_pages': 2,\n",
       " 'data': [{'id': 7,\n",
       "   'email': 'michael.lawson@reqres.in',\n",
       "   'first_name': 'Michael',\n",
       "   'last_name': 'Lawson',\n",
       "   'avatar': 'https://reqres.in/img/faces/7-image.jpg'},\n",
       "  {'id': 8,\n",
       "   'email': 'lindsay.ferguson@reqres.in',\n",
       "   'first_name': 'Lindsay',\n",
       "   'last_name': 'Ferguson',\n",
       "   'avatar': 'https://reqres.in/img/faces/8-image.jpg'},\n",
       "  {'id': 9,\n",
       "   'email': 'tobias.funke@reqres.in',\n",
       "   'first_name': 'Tobias',\n",
       "   'last_name': 'Funke',\n",
       "   'avatar': 'https://reqres.in/img/faces/9-image.jpg'},\n",
       "  {'id': 10,\n",
       "   'email': 'byron.fields@reqres.in',\n",
       "   'first_name': 'Byron',\n",
       "   'last_name': 'Fields',\n",
       "   'avatar': 'https://reqres.in/img/faces/10-image.jpg'},\n",
       "  {'id': 11,\n",
       "   'email': 'george.edwards@reqres.in',\n",
       "   'first_name': 'George',\n",
       "   'last_name': 'Edwards',\n",
       "   'avatar': 'https://reqres.in/img/faces/11-image.jpg'},\n",
       "  {'id': 12,\n",
       "   'email': 'rachel.howell@reqres.in',\n",
       "   'first_name': 'Rachel',\n",
       "   'last_name': 'Howell',\n",
       "   'avatar': 'https://reqres.in/img/faces/12-image.jpg'}],\n",
       " 'support': {'url': 'https://reqres.in/#support-heading',\n",
       "  'text': 'To keep ReqRes free, contributions towards server costs are appreciated!'}}"
      ]
     },
     "metadata": {},
     "execution_count": 68
    }
   ],
   "source": [
    "rjson"
   ]
  },
  {
   "cell_type": "code",
   "execution_count": 69,
   "metadata": {},
   "outputs": [],
   "source": [
    "#filtering out only the necessary data from the json\n",
    "rjson=rjson['data']"
   ]
  },
  {
   "cell_type": "code",
   "execution_count": 70,
   "metadata": {},
   "outputs": [
    {
     "output_type": "execute_result",
     "data": {
      "text/plain": [
       "[{'id': 7,\n",
       "  'email': 'michael.lawson@reqres.in',\n",
       "  'first_name': 'Michael',\n",
       "  'last_name': 'Lawson',\n",
       "  'avatar': 'https://reqres.in/img/faces/7-image.jpg'},\n",
       " {'id': 8,\n",
       "  'email': 'lindsay.ferguson@reqres.in',\n",
       "  'first_name': 'Lindsay',\n",
       "  'last_name': 'Ferguson',\n",
       "  'avatar': 'https://reqres.in/img/faces/8-image.jpg'},\n",
       " {'id': 9,\n",
       "  'email': 'tobias.funke@reqres.in',\n",
       "  'first_name': 'Tobias',\n",
       "  'last_name': 'Funke',\n",
       "  'avatar': 'https://reqres.in/img/faces/9-image.jpg'},\n",
       " {'id': 10,\n",
       "  'email': 'byron.fields@reqres.in',\n",
       "  'first_name': 'Byron',\n",
       "  'last_name': 'Fields',\n",
       "  'avatar': 'https://reqres.in/img/faces/10-image.jpg'},\n",
       " {'id': 11,\n",
       "  'email': 'george.edwards@reqres.in',\n",
       "  'first_name': 'George',\n",
       "  'last_name': 'Edwards',\n",
       "  'avatar': 'https://reqres.in/img/faces/11-image.jpg'},\n",
       " {'id': 12,\n",
       "  'email': 'rachel.howell@reqres.in',\n",
       "  'first_name': 'Rachel',\n",
       "  'last_name': 'Howell',\n",
       "  'avatar': 'https://reqres.in/img/faces/12-image.jpg'}]"
      ]
     },
     "metadata": {},
     "execution_count": 70
    }
   ],
   "source": [
    "rjson"
   ]
  },
  {
   "cell_type": "code",
   "execution_count": 71,
   "metadata": {},
   "outputs": [],
   "source": [
    "#creating dataframe from json \n",
    "df=pd.DataFrame(rjson)"
   ]
  },
  {
   "cell_type": "code",
   "execution_count": 72,
   "metadata": {},
   "outputs": [
    {
     "output_type": "execute_result",
     "data": {
      "text/plain": [
       "   id                       email first_name last_name  \\\n",
       "0   7    michael.lawson@reqres.in    Michael    Lawson   \n",
       "1   8  lindsay.ferguson@reqres.in    Lindsay  Ferguson   \n",
       "2   9      tobias.funke@reqres.in     Tobias     Funke   \n",
       "3  10      byron.fields@reqres.in      Byron    Fields   \n",
       "4  11    george.edwards@reqres.in     George   Edwards   \n",
       "5  12     rachel.howell@reqres.in     Rachel    Howell   \n",
       "\n",
       "                                     avatar  \n",
       "0   https://reqres.in/img/faces/7-image.jpg  \n",
       "1   https://reqres.in/img/faces/8-image.jpg  \n",
       "2   https://reqres.in/img/faces/9-image.jpg  \n",
       "3  https://reqres.in/img/faces/10-image.jpg  \n",
       "4  https://reqres.in/img/faces/11-image.jpg  \n",
       "5  https://reqres.in/img/faces/12-image.jpg  "
      ],
      "text/html": "<div>\n<style scoped>\n    .dataframe tbody tr th:only-of-type {\n        vertical-align: middle;\n    }\n\n    .dataframe tbody tr th {\n        vertical-align: top;\n    }\n\n    .dataframe thead th {\n        text-align: right;\n    }\n</style>\n<table border=\"1\" class=\"dataframe\">\n  <thead>\n    <tr style=\"text-align: right;\">\n      <th></th>\n      <th>id</th>\n      <th>email</th>\n      <th>first_name</th>\n      <th>last_name</th>\n      <th>avatar</th>\n    </tr>\n  </thead>\n  <tbody>\n    <tr>\n      <th>0</th>\n      <td>7</td>\n      <td>michael.lawson@reqres.in</td>\n      <td>Michael</td>\n      <td>Lawson</td>\n      <td>https://reqres.in/img/faces/7-image.jpg</td>\n    </tr>\n    <tr>\n      <th>1</th>\n      <td>8</td>\n      <td>lindsay.ferguson@reqres.in</td>\n      <td>Lindsay</td>\n      <td>Ferguson</td>\n      <td>https://reqres.in/img/faces/8-image.jpg</td>\n    </tr>\n    <tr>\n      <th>2</th>\n      <td>9</td>\n      <td>tobias.funke@reqres.in</td>\n      <td>Tobias</td>\n      <td>Funke</td>\n      <td>https://reqres.in/img/faces/9-image.jpg</td>\n    </tr>\n    <tr>\n      <th>3</th>\n      <td>10</td>\n      <td>byron.fields@reqres.in</td>\n      <td>Byron</td>\n      <td>Fields</td>\n      <td>https://reqres.in/img/faces/10-image.jpg</td>\n    </tr>\n    <tr>\n      <th>4</th>\n      <td>11</td>\n      <td>george.edwards@reqres.in</td>\n      <td>George</td>\n      <td>Edwards</td>\n      <td>https://reqres.in/img/faces/11-image.jpg</td>\n    </tr>\n    <tr>\n      <th>5</th>\n      <td>12</td>\n      <td>rachel.howell@reqres.in</td>\n      <td>Rachel</td>\n      <td>Howell</td>\n      <td>https://reqres.in/img/faces/12-image.jpg</td>\n    </tr>\n  </tbody>\n</table>\n</div>"
     },
     "metadata": {},
     "execution_count": 72
    }
   ],
   "source": [
    "df"
   ]
  },
  {
   "cell_type": "code",
   "execution_count": 73,
   "metadata": {},
   "outputs": [],
   "source": [
    "#renaming columns of the dataframe\n",
    "col={'id':\"ID\",'email':\"Email of Customer\",'first_name':\"First Name\",'last_name':\"Last Name\",\"avatar\":\"Avatar\"}\n",
    "df=df.rename(columns=col)"
   ]
  },
  {
   "cell_type": "code",
   "execution_count": 74,
   "metadata": {},
   "outputs": [
    {
     "output_type": "execute_result",
     "data": {
      "text/plain": [
       "   ID           Email of Customer First Name Last Name  \\\n",
       "0   7    michael.lawson@reqres.in    Michael    Lawson   \n",
       "1   8  lindsay.ferguson@reqres.in    Lindsay  Ferguson   \n",
       "2   9      tobias.funke@reqres.in     Tobias     Funke   \n",
       "3  10      byron.fields@reqres.in      Byron    Fields   \n",
       "4  11    george.edwards@reqres.in     George   Edwards   \n",
       "5  12     rachel.howell@reqres.in     Rachel    Howell   \n",
       "\n",
       "                                     Avatar  \n",
       "0   https://reqres.in/img/faces/7-image.jpg  \n",
       "1   https://reqres.in/img/faces/8-image.jpg  \n",
       "2   https://reqres.in/img/faces/9-image.jpg  \n",
       "3  https://reqres.in/img/faces/10-image.jpg  \n",
       "4  https://reqres.in/img/faces/11-image.jpg  \n",
       "5  https://reqres.in/img/faces/12-image.jpg  "
      ],
      "text/html": "<div>\n<style scoped>\n    .dataframe tbody tr th:only-of-type {\n        vertical-align: middle;\n    }\n\n    .dataframe tbody tr th {\n        vertical-align: top;\n    }\n\n    .dataframe thead th {\n        text-align: right;\n    }\n</style>\n<table border=\"1\" class=\"dataframe\">\n  <thead>\n    <tr style=\"text-align: right;\">\n      <th></th>\n      <th>ID</th>\n      <th>Email of Customer</th>\n      <th>First Name</th>\n      <th>Last Name</th>\n      <th>Avatar</th>\n    </tr>\n  </thead>\n  <tbody>\n    <tr>\n      <th>0</th>\n      <td>7</td>\n      <td>michael.lawson@reqres.in</td>\n      <td>Michael</td>\n      <td>Lawson</td>\n      <td>https://reqres.in/img/faces/7-image.jpg</td>\n    </tr>\n    <tr>\n      <th>1</th>\n      <td>8</td>\n      <td>lindsay.ferguson@reqres.in</td>\n      <td>Lindsay</td>\n      <td>Ferguson</td>\n      <td>https://reqres.in/img/faces/8-image.jpg</td>\n    </tr>\n    <tr>\n      <th>2</th>\n      <td>9</td>\n      <td>tobias.funke@reqres.in</td>\n      <td>Tobias</td>\n      <td>Funke</td>\n      <td>https://reqres.in/img/faces/9-image.jpg</td>\n    </tr>\n    <tr>\n      <th>3</th>\n      <td>10</td>\n      <td>byron.fields@reqres.in</td>\n      <td>Byron</td>\n      <td>Fields</td>\n      <td>https://reqres.in/img/faces/10-image.jpg</td>\n    </tr>\n    <tr>\n      <th>4</th>\n      <td>11</td>\n      <td>george.edwards@reqres.in</td>\n      <td>George</td>\n      <td>Edwards</td>\n      <td>https://reqres.in/img/faces/11-image.jpg</td>\n    </tr>\n    <tr>\n      <th>5</th>\n      <td>12</td>\n      <td>rachel.howell@reqres.in</td>\n      <td>Rachel</td>\n      <td>Howell</td>\n      <td>https://reqres.in/img/faces/12-image.jpg</td>\n    </tr>\n  </tbody>\n</table>\n</div>"
     },
     "metadata": {},
     "execution_count": 74
    }
   ],
   "source": [
    "df"
   ]
  },
  {
   "cell_type": "code",
   "execution_count": 75,
   "metadata": {},
   "outputs": [],
   "source": [
    "df['Name']=df['First Name']+\" \"+df['Last Name']"
   ]
  },
  {
   "cell_type": "code",
   "execution_count": 76,
   "metadata": {},
   "outputs": [
    {
     "output_type": "execute_result",
     "data": {
      "text/plain": [
       "   ID           Email of Customer                                    Avatar  \\\n",
       "0   7    michael.lawson@reqres.in   https://reqres.in/img/faces/7-image.jpg   \n",
       "1   8  lindsay.ferguson@reqres.in   https://reqres.in/img/faces/8-image.jpg   \n",
       "2   9      tobias.funke@reqres.in   https://reqres.in/img/faces/9-image.jpg   \n",
       "3  10      byron.fields@reqres.in  https://reqres.in/img/faces/10-image.jpg   \n",
       "4  11    george.edwards@reqres.in  https://reqres.in/img/faces/11-image.jpg   \n",
       "5  12     rachel.howell@reqres.in  https://reqres.in/img/faces/12-image.jpg   \n",
       "\n",
       "               Name  \n",
       "0    Michael Lawson  \n",
       "1  Lindsay Ferguson  \n",
       "2      Tobias Funke  \n",
       "3      Byron Fields  \n",
       "4    George Edwards  \n",
       "5     Rachel Howell  "
      ],
      "text/html": "<div>\n<style scoped>\n    .dataframe tbody tr th:only-of-type {\n        vertical-align: middle;\n    }\n\n    .dataframe tbody tr th {\n        vertical-align: top;\n    }\n\n    .dataframe thead th {\n        text-align: right;\n    }\n</style>\n<table border=\"1\" class=\"dataframe\">\n  <thead>\n    <tr style=\"text-align: right;\">\n      <th></th>\n      <th>ID</th>\n      <th>Email of Customer</th>\n      <th>Avatar</th>\n      <th>Name</th>\n    </tr>\n  </thead>\n  <tbody>\n    <tr>\n      <th>0</th>\n      <td>7</td>\n      <td>michael.lawson@reqres.in</td>\n      <td>https://reqres.in/img/faces/7-image.jpg</td>\n      <td>Michael Lawson</td>\n    </tr>\n    <tr>\n      <th>1</th>\n      <td>8</td>\n      <td>lindsay.ferguson@reqres.in</td>\n      <td>https://reqres.in/img/faces/8-image.jpg</td>\n      <td>Lindsay Ferguson</td>\n    </tr>\n    <tr>\n      <th>2</th>\n      <td>9</td>\n      <td>tobias.funke@reqres.in</td>\n      <td>https://reqres.in/img/faces/9-image.jpg</td>\n      <td>Tobias Funke</td>\n    </tr>\n    <tr>\n      <th>3</th>\n      <td>10</td>\n      <td>byron.fields@reqres.in</td>\n      <td>https://reqres.in/img/faces/10-image.jpg</td>\n      <td>Byron Fields</td>\n    </tr>\n    <tr>\n      <th>4</th>\n      <td>11</td>\n      <td>george.edwards@reqres.in</td>\n      <td>https://reqres.in/img/faces/11-image.jpg</td>\n      <td>George Edwards</td>\n    </tr>\n    <tr>\n      <th>5</th>\n      <td>12</td>\n      <td>rachel.howell@reqres.in</td>\n      <td>https://reqres.in/img/faces/12-image.jpg</td>\n      <td>Rachel Howell</td>\n    </tr>\n  </tbody>\n</table>\n</div>"
     },
     "metadata": {},
     "execution_count": 76
    }
   ],
   "source": [
    "df.drop(columns=['First Name','Last Name'],axis=1)"
   ]
  },
  {
   "cell_type": "code",
   "execution_count": 80,
   "metadata": {},
   "outputs": [],
   "source": [
    "df=df[['ID','Name','Email of Customer','Avatar']]"
   ]
  },
  {
   "cell_type": "code",
   "execution_count": 81,
   "metadata": {},
   "outputs": [
    {
     "output_type": "execute_result",
     "data": {
      "text/plain": [
       "   ID              Name           Email of Customer  \\\n",
       "0   7    Michael Lawson    michael.lawson@reqres.in   \n",
       "1   8  Lindsay Ferguson  lindsay.ferguson@reqres.in   \n",
       "2   9      Tobias Funke      tobias.funke@reqres.in   \n",
       "3  10      Byron Fields      byron.fields@reqres.in   \n",
       "4  11    George Edwards    george.edwards@reqres.in   \n",
       "5  12     Rachel Howell     rachel.howell@reqres.in   \n",
       "\n",
       "                                     Avatar  \n",
       "0   https://reqres.in/img/faces/7-image.jpg  \n",
       "1   https://reqres.in/img/faces/8-image.jpg  \n",
       "2   https://reqres.in/img/faces/9-image.jpg  \n",
       "3  https://reqres.in/img/faces/10-image.jpg  \n",
       "4  https://reqres.in/img/faces/11-image.jpg  \n",
       "5  https://reqres.in/img/faces/12-image.jpg  "
      ],
      "text/html": "<div>\n<style scoped>\n    .dataframe tbody tr th:only-of-type {\n        vertical-align: middle;\n    }\n\n    .dataframe tbody tr th {\n        vertical-align: top;\n    }\n\n    .dataframe thead th {\n        text-align: right;\n    }\n</style>\n<table border=\"1\" class=\"dataframe\">\n  <thead>\n    <tr style=\"text-align: right;\">\n      <th></th>\n      <th>ID</th>\n      <th>Name</th>\n      <th>Email of Customer</th>\n      <th>Avatar</th>\n    </tr>\n  </thead>\n  <tbody>\n    <tr>\n      <th>0</th>\n      <td>7</td>\n      <td>Michael Lawson</td>\n      <td>michael.lawson@reqres.in</td>\n      <td>https://reqres.in/img/faces/7-image.jpg</td>\n    </tr>\n    <tr>\n      <th>1</th>\n      <td>8</td>\n      <td>Lindsay Ferguson</td>\n      <td>lindsay.ferguson@reqres.in</td>\n      <td>https://reqres.in/img/faces/8-image.jpg</td>\n    </tr>\n    <tr>\n      <th>2</th>\n      <td>9</td>\n      <td>Tobias Funke</td>\n      <td>tobias.funke@reqres.in</td>\n      <td>https://reqres.in/img/faces/9-image.jpg</td>\n    </tr>\n    <tr>\n      <th>3</th>\n      <td>10</td>\n      <td>Byron Fields</td>\n      <td>byron.fields@reqres.in</td>\n      <td>https://reqres.in/img/faces/10-image.jpg</td>\n    </tr>\n    <tr>\n      <th>4</th>\n      <td>11</td>\n      <td>George Edwards</td>\n      <td>george.edwards@reqres.in</td>\n      <td>https://reqres.in/img/faces/11-image.jpg</td>\n    </tr>\n    <tr>\n      <th>5</th>\n      <td>12</td>\n      <td>Rachel Howell</td>\n      <td>rachel.howell@reqres.in</td>\n      <td>https://reqres.in/img/faces/12-image.jpg</td>\n    </tr>\n  </tbody>\n</table>\n</div>"
     },
     "metadata": {},
     "execution_count": 81
    }
   ],
   "source": [
    "df"
   ]
  }
 ]
}