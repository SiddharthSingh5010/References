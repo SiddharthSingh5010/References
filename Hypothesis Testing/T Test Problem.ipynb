{
 "cells": [
  {
   "cell_type": "markdown",
   "id": "4f05f49e-b98c-4500-99f1-f1300d8669bc",
   "metadata": {},
   "source": [
    "# T Test on Single Sample : "
   ]
  },
  {
   "cell_type": "markdown",
   "id": "af7e6cd5-42f4-4742-aa7d-a8b16d188eee",
   "metadata": {},
   "source": [
    "### Statement : \n",
    "Experian Marketing Services reported that the typical American spends a mean of 144 minutes (2.4 hours) per day accessing the Internet via a mobile device. (Source: The 2014 Digital Marketer, available at ex.pn/IkXJjfX.) \n",
    "\n",
    "### Problem : We want to check the validity of this statement. In order to check the validity, an unbiased sample of 30 people have been taken randomly and their average time on Internet via mobile is recorded. \n",
    "#### 1. Is there enough evidence to reject the reported mean of 144 by report. \n"
   ]
  },
  {
   "cell_type": "code",
   "execution_count": 2,
   "id": "7db2f49b-758b-46e7-9531-ff7ea7e79ee8",
   "metadata": {},
   "outputs": [],
   "source": [
    "import numpy as np\n",
    "import pandas as pd\n",
    "import math\n",
    "from scipy import stats\n",
    "from scipy.stats import   ttest_1samp"
   ]
  },
  {
   "cell_type": "code",
   "execution_count": 4,
   "id": "9e204149-84b1-43c2-b010-3c2301e29965",
   "metadata": {},
   "outputs": [
    {
     "data": {
      "text/html": [
       "<div>\n",
       "<style scoped>\n",
       "    .dataframe tbody tr th:only-of-type {\n",
       "        vertical-align: middle;\n",
       "    }\n",
       "\n",
       "    .dataframe tbody tr th {\n",
       "        vertical-align: top;\n",
       "    }\n",
       "\n",
       "    .dataframe thead th {\n",
       "        text-align: right;\n",
       "    }\n",
       "</style>\n",
       "<table border=\"1\" class=\"dataframe\">\n",
       "  <thead>\n",
       "    <tr style=\"text-align: right;\">\n",
       "      <th></th>\n",
       "      <th>Minutes</th>\n",
       "    </tr>\n",
       "  </thead>\n",
       "  <tbody>\n",
       "    <tr>\n",
       "      <th>0</th>\n",
       "      <td>72</td>\n",
       "    </tr>\n",
       "    <tr>\n",
       "      <th>1</th>\n",
       "      <td>144</td>\n",
       "    </tr>\n",
       "    <tr>\n",
       "      <th>2</th>\n",
       "      <td>48</td>\n",
       "    </tr>\n",
       "    <tr>\n",
       "      <th>3</th>\n",
       "      <td>72</td>\n",
       "    </tr>\n",
       "    <tr>\n",
       "      <th>4</th>\n",
       "      <td>36</td>\n",
       "    </tr>\n",
       "  </tbody>\n",
       "</table>\n",
       "</div>"
      ],
      "text/plain": [
       "   Minutes\n",
       "0       72\n",
       "1      144\n",
       "2       48\n",
       "3       72\n",
       "4       36"
      ]
     },
     "execution_count": 4,
     "metadata": {},
     "output_type": "execute_result"
    }
   ],
   "source": [
    "mydata = pd.read_csv('InternetMobileTime .csv')\n",
    "mydata.head()"
   ]
  },
  {
   "cell_type": "markdown",
   "id": "d4df893a-ec99-4176-a022-b21eb70a4be1",
   "metadata": {},
   "source": [
    "#### Why are we doing T-test?\n",
    "Because we don't know the standard deviation of the population."
   ]
  },
  {
   "cell_type": "markdown",
   "id": "55247d28-7d71-4814-9177-88ecc963c5a2",
   "metadata": {},
   "source": [
    "### Step 1: Define null and alternative hypotheses"
   ]
  },
  {
   "cell_type": "markdown",
   "id": "063d3d88-2b84-4422-b07d-cbe2e15c67e4",
   "metadata": {},
   "source": [
    "#### Null hypothesis states that mean  internet usage time, $\\mu$ is equals to 144.\n",
    "#### Alternative hypothesis states that the mean mean  internet usage time, $\\mu$ is unequal to 144.\n",
    "\n",
    "* $H_0$: $\\mu$ = 144\n",
    "* $H_A$: $\\mu$ $\\neq$ 144"
   ]
  },
  {
   "cell_type": "markdown",
   "id": "153af524-486c-4e80-b30d-be86cab503c0",
   "metadata": {},
   "source": [
    "### Step 2: Decide the significance level"
   ]
  },
  {
   "cell_type": "markdown",
   "id": "c0ab8c6c-9efe-4fd2-8dd5-850d50989588",
   "metadata": {},
   "source": [
    "Here we select $\\alpha$ = 0.05."
   ]
  },
  {
   "cell_type": "markdown",
   "id": "474d2632-de3a-439e-aadf-224c7df32fd2",
   "metadata": {},
   "source": [
    "### Step 3: Calculate the p - value and test statistic"
   ]
  },
  {
   "cell_type": "markdown",
   "id": "e35157c8-74a6-411f-ab75-b369829d77a9",
   "metadata": {},
   "source": [
    "**scipy.stats.ttest_1samp calculates the t test for the mean of one sample given the sample observations and  the expected value in the null hypothesis. This function returns t statistic and the two-tailed p value.**"
   ]
  },
  {
   "cell_type": "code",
   "execution_count": 5,
   "id": "dcd30c47-9b53-41a1-a57b-0ea6da9e1dcb",
   "metadata": {},
   "outputs": [
    {
     "name": "stdout",
     "output_type": "stream",
     "text": [
      "One sample t test \n",
      "t statistic: [1.22467437] p value: [0.23055327] \n"
     ]
    }
   ],
   "source": [
    "# one sample t-test\n",
    "# null hypothesis: expected value = 144\n",
    "t_statistic, p_value = ttest_1samp(mydata, 144)\n",
    "print('One sample t test \\nt statistic: {0} p value: {1} '.format(t_statistic, p_value))"
   ]
  },
  {
   "cell_type": "markdown",
   "id": "5e13c47c-ef7c-4a5e-8626-928efe797ec9",
   "metadata": {},
   "source": [
    "### Step 5 Decide to reject or accept null hypothesis"
   ]
  },
  {
   "cell_type": "code",
   "execution_count": 6,
   "id": "ae75cfca-dee2-4ca8-b190-b52693ede41f",
   "metadata": {},
   "outputs": [
    {
     "name": "stdout",
     "output_type": "stream",
     "text": [
      "Level of significance: 0.05\n",
      "We have no evidence to reject the null hypothesis since p value > Level of significance\n",
      "Our one-sample t-test p-value= [0.23055327]\n"
     ]
    }
   ],
   "source": [
    "\n",
    "# p_value < 0.05 => alternative hypothesis:\n",
    "\n",
    "alpha_value = 0.05 # Level of significance\n",
    "print('Level of significance: %.2f' %alpha_value)\n",
    "if p_value < alpha_value: \n",
    "    print('We have evidence to reject the null hypothesis since p value < Level of significance')\n",
    "else:\n",
    "    print('We have no evidence to reject the null hypothesis since p value > Level of significance') \n",
    "\n",
    "print (\"Our one-sample t-test p-value=\", p_value)"
   ]
  },
  {
   "cell_type": "markdown",
   "id": "7243e610-29d4-462a-afce-cec69df0055c",
   "metadata": {},
   "source": [
    "### So at 95% confidence level, there is  sufficient evidence  to prove that mean time spent on the internet is equal to  144 minutes. "
   ]
  }
 ],
 "metadata": {
  "kernelspec": {
   "display_name": "Python 3",
   "language": "python",
   "name": "python3"
  },
  "language_info": {
   "codemirror_mode": {
    "name": "ipython",
    "version": 3
   },
   "file_extension": ".py",
   "mimetype": "text/x-python",
   "name": "python",
   "nbconvert_exporter": "python",
   "pygments_lexer": "ipython3",
   "version": "3.8.8"
  }
 },
 "nbformat": 4,
 "nbformat_minor": 5
}
