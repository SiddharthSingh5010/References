{
 "cells": [
  {
   "cell_type": "code",
   "execution_count": 1,
   "id": "1061d70d-b419-4a5e-9fa5-3b94943537cb",
   "metadata": {},
   "outputs": [],
   "source": [
    "import mysql.connector\n",
    "from mysql.connector import Error\n",
    "from sqlalchemy import create_engine\n",
    "import pandas as pd\n",
    "import numpy as np\n",
    "import csv"
   ]
  },
  {
   "cell_type": "code",
   "execution_count": 2,
   "id": "7596938f-3ddf-4b77-8f1d-15b2aec64a79",
   "metadata": {},
   "outputs": [],
   "source": [
    "#Connection to a MYSQL Database"
   ]
  },
  {
   "cell_type": "code",
   "execution_count": 3,
   "id": "7846ee30-5710-4702-b8ef-537a44aa3e30",
   "metadata": {},
   "outputs": [
    {
     "name": "stdout",
     "output_type": "stream",
     "text": [
      "Connected to MySQL Server version  8.0.26\n",
      "You're connected to database:  ('siddharth',)\n"
     ]
    }
   ],
   "source": [
    "try:\n",
    "    connection = mysql.connector.connect(host='127.0.0.1',\n",
    "                                         database='Siddharth',\n",
    "                                         user='root',\n",
    "                                         password='password')\n",
    "    if connection.is_connected():\n",
    "        db_Info = connection.get_server_info()\n",
    "        print(\"Connected to MySQL Server version \", db_Info)\n",
    "        cursor = connection.cursor()\n",
    "        cursor.execute(\"select database();\")\n",
    "        record = cursor.fetchone()\n",
    "        print(\"You're connected to database: \", record)\n",
    "except Error as e:\n",
    "    print(\"Error while connecting to MySQL\", e)"
   ]
  },
  {
   "cell_type": "code",
   "execution_count": 4,
   "id": "e5efb081-58f5-4f7b-8897-8d9225f6264e",
   "metadata": {},
   "outputs": [],
   "source": [
    "cur = connection.cursor(buffered=True)"
   ]
  },
  {
   "cell_type": "code",
   "execution_count": 5,
   "id": "6df3bfdf-0227-44d4-946f-80fca660659f",
   "metadata": {},
   "outputs": [],
   "source": [
    "#Getting names of all the tables in titan.db"
   ]
  },
  {
   "cell_type": "code",
   "execution_count": 6,
   "id": "191eb540-2abc-47c1-805b-d124921e3c84",
   "metadata": {},
   "outputs": [
    {
     "data": {
      "text/plain": [
       "[('airport',),\n",
       " ('author',),\n",
       " ('bank_details',),\n",
       " ('insurance',),\n",
       " ('persons',),\n",
       " ('persons_1',),\n",
       " ('retail',),\n",
       " ('tt',)]"
      ]
     },
     "execution_count": 6,
     "metadata": {},
     "output_type": "execute_result"
    }
   ],
   "source": [
    "cur.execute(\"SELECT table_name FROM information_schema.tables where table_schema = 'siddharth'\")\n",
    "cur.fetchall()"
   ]
  },
  {
   "cell_type": "code",
   "execution_count": 7,
   "id": "adbff30c-f464-4a8d-8880-7d3a9deac0db",
   "metadata": {},
   "outputs": [
    {
     "data": {
      "text/html": [
       "<div>\n",
       "<style scoped>\n",
       "    .dataframe tbody tr th:only-of-type {\n",
       "        vertical-align: middle;\n",
       "    }\n",
       "\n",
       "    .dataframe tbody tr th {\n",
       "        vertical-align: top;\n",
       "    }\n",
       "\n",
       "    .dataframe thead th {\n",
       "        text-align: right;\n",
       "    }\n",
       "</style>\n",
       "<table border=\"1\" class=\"dataframe\">\n",
       "  <thead>\n",
       "    <tr style=\"text-align: right;\">\n",
       "      <th></th>\n",
       "      <th>TABLE_NAME</th>\n",
       "    </tr>\n",
       "  </thead>\n",
       "  <tbody>\n",
       "    <tr>\n",
       "      <th>0</th>\n",
       "      <td>airport</td>\n",
       "    </tr>\n",
       "    <tr>\n",
       "      <th>1</th>\n",
       "      <td>author</td>\n",
       "    </tr>\n",
       "    <tr>\n",
       "      <th>2</th>\n",
       "      <td>bank_details</td>\n",
       "    </tr>\n",
       "    <tr>\n",
       "      <th>3</th>\n",
       "      <td>insurance</td>\n",
       "    </tr>\n",
       "    <tr>\n",
       "      <th>4</th>\n",
       "      <td>persons</td>\n",
       "    </tr>\n",
       "    <tr>\n",
       "      <th>5</th>\n",
       "      <td>persons_1</td>\n",
       "    </tr>\n",
       "    <tr>\n",
       "      <th>6</th>\n",
       "      <td>retail</td>\n",
       "    </tr>\n",
       "    <tr>\n",
       "      <th>7</th>\n",
       "      <td>tt</td>\n",
       "    </tr>\n",
       "  </tbody>\n",
       "</table>\n",
       "</div>"
      ],
      "text/plain": [
       "     TABLE_NAME\n",
       "0       airport\n",
       "1        author\n",
       "2  bank_details\n",
       "3     insurance\n",
       "4       persons\n",
       "5     persons_1\n",
       "6        retail\n",
       "7            tt"
      ]
     },
     "execution_count": 7,
     "metadata": {},
     "output_type": "execute_result"
    }
   ],
   "source": [
    "pd.read_sql_query(\"SELECT table_name FROM information_schema.tables where table_schema = 'siddharth'\",connection)"
   ]
  },
  {
   "cell_type": "code",
   "execution_count": 8,
   "id": "5f2170f0-7a30-44c0-bb62-7ac4d771cf0d",
   "metadata": {},
   "outputs": [],
   "source": [
    "#Creating New Table in SQL Server"
   ]
  },
  {
   "cell_type": "code",
   "execution_count": 9,
   "id": "97b62f79-803d-4469-8be2-69521c38bb42",
   "metadata": {},
   "outputs": [],
   "source": [
    "cur.execute('CREATE TABLE BANK_DETAILS_1 (ID INT NOT NULL, FIRST_NAME VARCHAR(20), LAST_NAME VARCHAR(20), MOBILE VARCHAR(10))')"
   ]
  },
  {
   "cell_type": "code",
   "execution_count": 10,
   "id": "770ae258-d609-45bf-9d6b-bb75509043c5",
   "metadata": {},
   "outputs": [],
   "source": [
    "#Checking if the table is created"
   ]
  },
  {
   "cell_type": "code",
   "execution_count": 11,
   "id": "ffb4df2f-a9e2-4a42-9f14-be53a6f98ba7",
   "metadata": {},
   "outputs": [
    {
     "data": {
      "text/html": [
       "<div>\n",
       "<style scoped>\n",
       "    .dataframe tbody tr th:only-of-type {\n",
       "        vertical-align: middle;\n",
       "    }\n",
       "\n",
       "    .dataframe tbody tr th {\n",
       "        vertical-align: top;\n",
       "    }\n",
       "\n",
       "    .dataframe thead th {\n",
       "        text-align: right;\n",
       "    }\n",
       "</style>\n",
       "<table border=\"1\" class=\"dataframe\">\n",
       "  <thead>\n",
       "    <tr style=\"text-align: right;\">\n",
       "      <th></th>\n",
       "      <th>TABLE_NAME</th>\n",
       "    </tr>\n",
       "  </thead>\n",
       "  <tbody>\n",
       "    <tr>\n",
       "      <th>0</th>\n",
       "      <td>airport</td>\n",
       "    </tr>\n",
       "    <tr>\n",
       "      <th>1</th>\n",
       "      <td>author</td>\n",
       "    </tr>\n",
       "    <tr>\n",
       "      <th>2</th>\n",
       "      <td>bank_details</td>\n",
       "    </tr>\n",
       "    <tr>\n",
       "      <th>3</th>\n",
       "      <td>bank_details_1</td>\n",
       "    </tr>\n",
       "    <tr>\n",
       "      <th>4</th>\n",
       "      <td>insurance</td>\n",
       "    </tr>\n",
       "    <tr>\n",
       "      <th>5</th>\n",
       "      <td>persons</td>\n",
       "    </tr>\n",
       "    <tr>\n",
       "      <th>6</th>\n",
       "      <td>persons_1</td>\n",
       "    </tr>\n",
       "    <tr>\n",
       "      <th>7</th>\n",
       "      <td>retail</td>\n",
       "    </tr>\n",
       "    <tr>\n",
       "      <th>8</th>\n",
       "      <td>tt</td>\n",
       "    </tr>\n",
       "  </tbody>\n",
       "</table>\n",
       "</div>"
      ],
      "text/plain": [
       "       TABLE_NAME\n",
       "0         airport\n",
       "1          author\n",
       "2    bank_details\n",
       "3  bank_details_1\n",
       "4       insurance\n",
       "5         persons\n",
       "6       persons_1\n",
       "7          retail\n",
       "8              tt"
      ]
     },
     "execution_count": 11,
     "metadata": {},
     "output_type": "execute_result"
    }
   ],
   "source": [
    "pd.read_sql_query(\"SELECT table_name FROM information_schema.tables where table_schema = 'siddharth'\",connection)"
   ]
  },
  {
   "cell_type": "code",
   "execution_count": 12,
   "id": "6f7d4b1f-cfa6-4f95-b708-622f460d1fee",
   "metadata": {},
   "outputs": [],
   "source": [
    "cur.execute(\"INSERT INTO BANK_DETAILS_1 VALUES (2,'SIDDHARTH','SINGH','7303055634')\")"
   ]
  },
  {
   "cell_type": "code",
   "execution_count": 13,
   "id": "9e55d884-c65e-481f-aa46-a4d2a0f4b49e",
   "metadata": {},
   "outputs": [],
   "source": [
    "#READING TABLE FROM SQL DATABASE"
   ]
  },
  {
   "cell_type": "code",
   "execution_count": 14,
   "id": "d03bc618-9d7b-4cd7-a63b-0871f97904ff",
   "metadata": {},
   "outputs": [
    {
     "data": {
      "text/html": [
       "<div>\n",
       "<style scoped>\n",
       "    .dataframe tbody tr th:only-of-type {\n",
       "        vertical-align: middle;\n",
       "    }\n",
       "\n",
       "    .dataframe tbody tr th {\n",
       "        vertical-align: top;\n",
       "    }\n",
       "\n",
       "    .dataframe thead th {\n",
       "        text-align: right;\n",
       "    }\n",
       "</style>\n",
       "<table border=\"1\" class=\"dataframe\">\n",
       "  <thead>\n",
       "    <tr style=\"text-align: right;\">\n",
       "      <th></th>\n",
       "      <th>ID</th>\n",
       "      <th>FIRST_NAME</th>\n",
       "      <th>LAST_NAME</th>\n",
       "      <th>MOBILE</th>\n",
       "    </tr>\n",
       "  </thead>\n",
       "  <tbody>\n",
       "    <tr>\n",
       "      <th>0</th>\n",
       "      <td>2</td>\n",
       "      <td>SIDDHARTH</td>\n",
       "      <td>SINGH</td>\n",
       "      <td>7303055634</td>\n",
       "    </tr>\n",
       "  </tbody>\n",
       "</table>\n",
       "</div>"
      ],
      "text/plain": [
       "   ID FIRST_NAME LAST_NAME      MOBILE\n",
       "0   2  SIDDHARTH     SINGH  7303055634"
      ]
     },
     "execution_count": 14,
     "metadata": {},
     "output_type": "execute_result"
    }
   ],
   "source": [
    "pd.read_sql_query(\"SELECT * FROM BANK_DETAILS_1\",connection)"
   ]
  },
  {
   "cell_type": "code",
   "execution_count": 15,
   "id": "8668fc29-83ae-4546-ae7a-a0e054fd8060",
   "metadata": {},
   "outputs": [
    {
     "data": {
      "text/plain": [
       "[(2, 'SIDDHARTH', 'SINGH', '7303055634')]"
      ]
     },
     "execution_count": 15,
     "metadata": {},
     "output_type": "execute_result"
    }
   ],
   "source": [
    "cur.execute('SELECT * FROM BANK_DETAILS_1')\n",
    "cur.fetchall()"
   ]
  },
  {
   "cell_type": "code",
   "execution_count": 16,
   "id": "cec3b99b-65b4-4515-a5fb-f3cfe5954b54",
   "metadata": {},
   "outputs": [],
   "source": [
    "connection.close()"
   ]
  }
 ],
 "metadata": {
  "kernelspec": {
   "display_name": "Python 3",
   "language": "python",
   "name": "python3"
  },
  "language_info": {
   "codemirror_mode": {
    "name": "ipython",
    "version": 3
   },
   "file_extension": ".py",
   "mimetype": "text/x-python",
   "name": "python",
   "nbconvert_exporter": "python",
   "pygments_lexer": "ipython3",
   "version": "3.8.8"
  }
 },
 "nbformat": 4,
 "nbformat_minor": 5
}
